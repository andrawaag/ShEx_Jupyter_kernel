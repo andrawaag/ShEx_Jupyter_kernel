{
 "cells": [
  {
   "cell_type": "code",
   "execution_count": 2,
   "metadata": {},
   "outputs": [
    {
     "name": "stdout",
     "output_type": "stream",
     "text": [
      "[{'property': 'http://www.w3.org/2000/01/rdf-schema#label',\n",
      "  'type': 'MissingProperty',\n",
      "  'valueExpr': {'nodeKind': 'literal', 'type': 'NodeConstraint'}},\n",
      " {'property': 'http://schema.org/description',\n",
      "  'type': 'MissingProperty',\n",
      "  'valueExpr': {'nodeKind': 'literal', 'type': 'NodeConstraint'}},\n",
      " {'property': 'http://www.wikidata.org/prop/P31',\n",
      "  'type': 'MissingProperty',\n",
      "  'valueExpr': {'reference': 'https://github.com/shexSpec/schemas/raw/master/Wikidata/pathways/Wikipathways/pathway_ontology_term',\n",
      "                'type': 'ShapeRef'}},\n",
      " {'property': 'http://www.wikidata.org/prop/P2410',\n",
      "  'type': 'MissingProperty',\n",
      "  'valueExpr': {'reference': 'https://github.com/shexSpec/schemas/raw/master/Wikidata/pathways/Wikipathways/wikipathway-identifier',\n",
      "                'type': 'ShapeRef'}}]\n"
     ]
    }
   ],
   "source": [
    "import shlex\n",
    "import json\n",
    "import subprocess\n",
    "import pprint\n",
    "\n",
    "class validate:\n",
    "    def __init__(self, shex, data):\n",
    "        self.data = data\n",
    "        self.shex = shex\n",
    "        self.output = \"{}\"\n",
    "        args = shlex.split(\n",
    "            \"/Users/andra/projects/shex.js/bin/validate -x {} -d {}\".format(self.shex, self.data))\n",
    "        try:\n",
    "            p = subprocess.check_output(args)\n",
    "        except subprocess.CalledProcessError as grepexc:\n",
    "            self.output = json.loads(grepexc.output)\n",
    "\n",
    "def main():\n",
    "    input_url = \"https://www.wikidata.org/wiki/Special:EntityData/Q42\"\n",
    "    input_shex = \"https://github.com/shexSpec/schemas/raw/master/Wikidata/pathways/Wikipathways/wikipathways.shex\"\n",
    "    shex_start = \"wd:Q42\"\n",
    "    validation = validate(input_shex, input_url)\n",
    "    pprint.pprint(validation.output[\"errors\"])\n",
    "\n",
    "if  __name__ =='__main__':\n",
    "    main()"
   ]
  },
  {
   "cell_type": "code",
   "execution_count": 3,
   "metadata": {},
   "outputs": [
    {
     "name": "stdout",
     "output_type": "stream",
     "text": [
      "[{'property': 'http://www.w3.org/2000/01/rdf-schema#label',\n",
      "  'type': 'MissingProperty',\n",
      "  'valueExpr': {'nodeKind': 'literal', 'type': 'NodeConstraint'}},\n",
      " {'property': 'http://schema.org/description',\n",
      "  'type': 'MissingProperty',\n",
      "  'valueExpr': {'nodeKind': 'literal', 'type': 'NodeConstraint'}},\n",
      " {'property': 'http://www.wikidata.org/prop/P31',\n",
      "  'type': 'MissingProperty',\n",
      "  'valueExpr': {'reference': 'https://github.com/shexSpec/schemas/raw/master/Wikidata/pathways/Wikipathways/pathway_ontology_term',\n",
      "                'type': 'ShapeRef'}},\n",
      " {'property': 'http://www.wikidata.org/prop/P2410',\n",
      "  'type': 'MissingProperty',\n",
      "  'valueExpr': {'reference': 'https://github.com/shexSpec/schemas/raw/master/Wikidata/pathways/Wikipathways/wikipathway-identifier',\n",
      "                'type': 'ShapeRef'}}]\n"
     ]
    }
   ],
   "source": [
    "input_url = \"https://www.wikidata.org/wiki/Special:EntityData/Q42\"\n",
    "input_shex = \"https://github.com/shexSpec/schemas/raw/master/Wikidata/pathways/Wikipathways/wikipathways.shex\"\n",
    "validation = validate(input_shex, input_url)\n",
    "pprint.pprint(validation.output[\"errors\"])"
   ]
  },
  {
   "cell_type": "code",
   "execution_count": null,
   "metadata": {},
   "outputs": [],
   "source": []
  }
 ],
 "metadata": {
  "kernelspec": {
   "display_name": "Python 3",
   "language": "python",
   "name": "python3"
  },
  "language_info": {
   "codemirror_mode": {
    "name": "ipython",
    "version": 3
   },
   "file_extension": ".py",
   "mimetype": "text/x-python",
   "name": "python",
   "nbconvert_exporter": "python",
   "pygments_lexer": "ipython3",
   "version": "3.6.1"
  }
 },
 "nbformat": 4,
 "nbformat_minor": 2
}
